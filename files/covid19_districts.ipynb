{
  "cells": [
    {
      "cell_type": "code",
      "execution_count": 1,
      "metadata": {
        "trusted": true
      },
      "outputs": [
        {
          "ename": "ModuleNotFoundError",
          "evalue": "No module named 'micropip'",
          "output_type": "error",
          "traceback": [
            "\u001b[1;31m---------------------------------------------------------------------------\u001b[0m",
            "\u001b[1;31mModuleNotFoundError\u001b[0m                       Traceback (most recent call last)",
            "\u001b[1;32m~\\AppData\\Local\\Temp/ipykernel_8784/3438660816.py\u001b[0m in \u001b[0;36m<module>\u001b[1;34m\u001b[0m\n\u001b[1;32m----> 1\u001b[1;33m \u001b[1;32mimport\u001b[0m \u001b[0mmicropip\u001b[0m\u001b[1;33m\u001b[0m\u001b[1;33m\u001b[0m\u001b[0m\n\u001b[0m\u001b[0;32m      2\u001b[0m \u001b[1;32mawait\u001b[0m \u001b[0mmicropip\u001b[0m\u001b[1;33m.\u001b[0m\u001b[0minstall\u001b[0m\u001b[1;33m(\u001b[0m\u001b[1;34m'ipywidgets'\u001b[0m\u001b[1;33m)\u001b[0m\u001b[1;33m\u001b[0m\u001b[1;33m\u001b[0m\u001b[0m\n\u001b[0;32m      3\u001b[0m \u001b[1;32mfrom\u001b[0m \u001b[0mipywidgets\u001b[0m \u001b[1;32mimport\u001b[0m \u001b[0minteract\u001b[0m\u001b[1;33m,\u001b[0m \u001b[0minteractive\u001b[0m\u001b[1;33m,\u001b[0m \u001b[0mfixed\u001b[0m\u001b[1;33m,\u001b[0m \u001b[0minteract_manual\u001b[0m\u001b[1;33m\u001b[0m\u001b[1;33m\u001b[0m\u001b[0m\n\u001b[0;32m      4\u001b[0m \u001b[1;32mimport\u001b[0m \u001b[0mipywidgets\u001b[0m \u001b[1;32mas\u001b[0m \u001b[0mwidgets\u001b[0m\u001b[1;33m\u001b[0m\u001b[1;33m\u001b[0m\u001b[0m\n\u001b[0;32m      5\u001b[0m \u001b[1;32mimport\u001b[0m \u001b[0mpandas\u001b[0m \u001b[1;32mas\u001b[0m \u001b[0mpd\u001b[0m\u001b[1;33m\u001b[0m\u001b[1;33m\u001b[0m\u001b[0m\n",
            "\u001b[1;31mModuleNotFoundError\u001b[0m: No module named 'micropip'"
          ]
        }
      ],
      "source": [
        "import micropip\n",
        "await micropip.install('ipywidgets')\n",
        "from ipywidgets import interact, interactive, fixed, interact_manual\n",
        "import ipywidgets as widgets\n",
        "import pandas as pd\n",
        "import matplotlib.pyplot as plt\n",
        "import matplotlib as mpl\n",
        "print(\"Done\")\n"
      ]
    },
    {
      "cell_type": "code",
      "execution_count": null,
      "metadata": {
        "trusted": true
      },
      "outputs": [
        {
          "name": "stdout",
          "output_type": "stream",
          "text": [
            "Done\n"
          ]
        }
      ],
      "source": [
        "import json\n",
        "from pyodide import to_js\n",
        "from IPython.display import JSON\n",
        "from js import Object, fetch\n",
        "print(\"Done\")"
      ]
    },
    {
      "cell_type": "code",
      "execution_count": null,
      "metadata": {
        "tags": [
          "hide_input",
          "hide_output"
        ],
        "trusted": true
      },
      "outputs": [],
      "source": [
        "from IPython.core.display import display, HTML\n",
        "display(HTML(\"<style>.toggle-button { display :none !important; }</style>\"))\n",
        "display(HTML(\"<style>.toggle-button-hidden { display :none !important; }</style>\"))\n",
        "display(HTML(\"<style>.button.toggle-button  { display :none !important; }</style>\"))\n",
        "display(HTML(\"<style>.fas fa-download { display :none !important; }</style>\"))\n",
        "\n",
        "resp = await fetch('http://localhost:5000/api/districtstotal?startdate=2021-08-31&enddate=2021-09-31',\n",
        "  method=\"GET\",\n",
        "  headers=Object.fromEntries(to_js({ \"Content-Type\": \"application/json\" })),\n",
        ")\n",
        "res = await resp.text()\n",
        "payload =json.loads(res)\n",
        "#print(payload)\n"
      ]
    },
    {
      "cell_type": "code",
      "execution_count": null,
      "metadata": {
        "trusted": true
      },
      "outputs": [
        {
          "name": "stdout",
          "output_type": "stream",
          "text": [
            "Dataset feactched as selected dataframe\n"
          ]
        }
      ],
      "source": [
        "data=pd.json_normalize(payload['data'])\n",
        "selected=data[[\"datetext\", \"counttext\",\"location.formattedAddress\"]]\n",
        "print('Dataset feactched as selected dataframe')\n",
        "#print(selected)\n",
        "#list(selected.columns.values)"
      ]
    },
    {
      "cell_type": "code",
      "execution_count": null,
      "metadata": {
        "trusted": true
      },
      "outputs": [
        {
          "name": "stdout",
          "output_type": "stream",
          "text": [
            "By defult Nuwara Eliya District selected\n",
            "For other district select it form the dropdown below >>>\n"
          ]
        },
        {
          "data": {
            "application/vnd.jupyter.widget-view+json": {
              "model_id": "74bec51337a640919336c1c1689650d7",
              "version_major": 2,
              "version_minor": 0
            },
            "text/plain": [
              "interactive(children=(Dropdown(description='x', options=('Nuwara Eliya, Sri Lanka', 'Badulla, Sri Lanka', 'Kur…"
            ]
          },
          "metadata": {},
          "output_type": "display_data"
        }
      ],
      "source": [
        "filtedVals= selected[selected['location.formattedAddress'].str.contains('Nuwara Eliya, Sri Lanka')]\n",
        "print('By defult Nuwara Eliya District selected')\n",
        "print('For other district select it form the dropdown below >>>')\n",
        "\n",
        "\n",
        "\n",
        "def f(x):\n",
        "    print(\"District changed to %s\" % x)\n",
        "    filtedVals=selected[selected['location.formattedAddress'].str.contains(x)]\n",
        "    #print(filtedVals)\n",
        "    pivoted = pd.DataFrame(filtedVals.pivot_table(values='counttext', index='datetext', columns='location.formattedAddress', aggfunc='sum'))\n",
        "    return pivoted\n",
        "\n",
        "interact(f, x=['Nuwara Eliya, Sri Lanka', 'Badulla, Sri Lanka', 'Kurunegala, Sri Lanka']);\n",
        "\n",
        "\n",
        "\n",
        "#def foo(param):\n",
        "    #display(param)\n",
        "    #return param\n",
        "    #return pd.DataFrame({'Z':[param,param], 'A': ['b', 'b']})\n",
        "\n",
        "#params = widgets.Dropdown(options= ['Nuwara Eliya, Sri Lanka', 'Badulla, Sri Lanka', 'Kurunegala, Sri Lanka'])\n",
        "\n",
        "#bar = widgets.interactive_output(foo, {'param' : params})\n",
        "\n",
        "\n",
        "#c = widgets.IntSlider()\n",
        "\n",
        "#ui = widgets.HBox([params])\n",
        "def f2(params):\n",
        "    #print((params))\n",
        "    return params;\n",
        "\n",
        "#out = widgets.interactive_output(f2, {'params': params})\n",
        "\n",
        "#display(ui, out)\n",
        "\n",
        "\n",
        "#display(widgets.VBox([params, bar]))\n",
        "\n",
        "#display(ui, out)\n",
        "\n"
      ]
    },
    {
      "cell_type": "code",
      "execution_count": null,
      "metadata": {},
      "outputs": [],
      "source": [
        "filtedVals= selected[selected['location.formattedAddress'].str.contains('Nuwara Eliya, Sri Lanka')]\n",
        "print('By defult Nuwara Eliya District selected')\n",
        "print('For other district select it form the dropdown below >>>')\n",
        "#print(filtedVals)\n",
        "w = widgets.Dropdown(\n",
        "    options=['Nuwara Eliya, Sri Lanka', 'Badulla, Sri Lanka', 'Kurunegala, Sri Lanka'],\n",
        "    value='Nuwara Eliya, Sri Lanka',\n",
        "    description='District:',\n",
        ")\n",
        "\n",
        "def on_change(change):\n",
        "    if change['type'] == 'change' and change['name'] == 'value':\n",
        "        print(\"District changed to %s\" % change['new'])\n",
        "        filtedVals=selected[selected['location.formattedAddress'].str.contains(change['new'])]\n",
        "        #print(filtedVals)\n",
        "        pivoted = pd.DataFrame(filtedVals.pivot_table(values='counttext', index='datetext', columns='location.formattedAddress', aggfunc='sum'))\n",
        "        #print(list(pivoted.columns.values))\n",
        "        #pivoted = pivoted.set_index('datetext')\n",
        "        #print(pivoted)\n",
        "        \n",
        "        # figure size globally set for matplotlib\n",
        "        mpl.rcParams['figure.figsize'] = (20, 20)\n",
        "        mpl.rcParams['axes.grid'] = False\n",
        "\n",
        "        ax = pivoted.plot()\n",
        "        #ax.set_color_palette(sns.color_palette(\"muted\"))\n",
        "        pivoted.plot(ax=ax)\n",
        "        plt.legend(loc='best',prop={'size': 9}) \n",
        "        plt.show() \n",
        "\n",
        "w.observe(on_change)\n",
        "\n",
        "display(w)"
      ]
    },
    {
      "cell_type": "code",
      "execution_count": null,
      "metadata": {},
      "outputs": [],
      "source": [
        "import numpy as np\n",
        "x = np.random.uniform(0, 5, size=100)\n",
        "ep = np.random.normal(size=100)\n",
        "\n",
        "y = 2*x + ep\n",
        "x_values = np.linspace(0, 5, 1000)\n",
        "\n",
        "def slope_viz(m=1):\n",
        "    plt.scatter(x, y)\n",
        "    plt.plot(x_values, m*x_values, lw=3, color='black')\n",
        "    \n",
        "    plt.ylim(-1.2, 12.2);\n",
        "\n",
        "widgets.interact(slope_viz, m=[0, 1, 2, 3, 4]);"
      ]
    }
  ],
  "metadata": {
    "interpreter": {
      "hash": "63fd5069d213b44bf678585dea6b12cceca9941eaf7f819626cde1f2670de90d"
    },
    "kernelspec": {
      "display_name": "Pyolite",
      "language": "python",
      "name": "python3"
    },
    "language_info": {
      "codemirror_mode": {
        "name": "ipython",
        "version": 3
      },
      "file_extension": ".py",
      "mimetype": "text/x-python",
      "name": "python",
      "nbconvert_exporter": "python",
      "pygments_lexer": "ipython3",
      "version": "3.10.0"
    },
    "orig_nbformat": 4
  },
  "nbformat": 4,
  "nbformat_minor": 4
}
